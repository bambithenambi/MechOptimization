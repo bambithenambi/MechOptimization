{
  "nbformat": 4,
  "nbformat_minor": 0,
  "metadata": {
    "colab": {
      "name": "Shooter Optimization.ipynb",
      "provenance": [],
      "collapsed_sections": [],
      "authorship_tag": "ABX9TyPIIanOg27++eOwWpjAklX5",
      "include_colab_link": true
    },
    "kernelspec": {
      "name": "python3",
      "display_name": "Python 3"
    },
    "language_info": {
      "name": "python"
    }
  },
  "cells": [
    {
      "cell_type": "markdown",
      "metadata": {
        "id": "view-in-github",
        "colab_type": "text"
      },
      "source": [
        "<a href=\"https://colab.research.google.com/github/bambithenambi/MechOptimization/blob/main/Shooter_Optimization.ipynb\" target=\"_parent\"><img src=\"https://colab.research.google.com/assets/colab-badge.svg\" alt=\"Open In Colab\"/></a>"
      ]
    },
    {
      "cell_type": "code",
      "metadata": {
        "id": "06JplmNi7qsu"
      },
      "source": [
        "import math\n",
        "import pandas as pd\n",
        "import numpy as np\n",
        "import matplotlib.pyplot as plt\n",
        "from timeit import default_timer as timer"
      ],
      "execution_count": null,
      "outputs": []
    },
    {
      "cell_type": "code",
      "metadata": {
        "id": "8LJbeLMV622C"
      },
      "source": [
        "Hg = 4\n",
        "Ht = 5\n",
        "Hs = 0.5\n",
        "g = 9.81\n",
        "Dt = 7\n",
        "angles = np.arange(1.0, 90.0, 0.1)\n",
        "def angleToVelocity(angle):\n",
        "  return math.sqrt(((Hg+Ht)/2-Hs)/(Dt*math.tan(angle*math.pi/180)+(g/2)))*g/math.sin(angle*math.pi/180)\n",
        "\n",
        "\n"
      ],
      "execution_count": null,
      "outputs": []
    },
    {
      "cell_type": "code",
      "metadata": {
        "id": "t5rZA6C_CLnO",
        "colab": {
          "base_uri": "https://localhost:8080/"
        },
        "outputId": "852d6a6d-9be8-43d3-a1f8-c6fe362bec08"
      },
      "source": [
        "\n",
        "velocity = list()\n",
        "for i in angles:\n",
        "  velocity.append(angleToVelocity(i))"
      ],
      "execution_count": null,
      "outputs": [
        {
          "output_type": "stream",
          "text": [
            "0.004709834999857776\n",
            "7.984499984559079e-05\n"
          ],
          "name": "stdout"
        }
      ]
    },
    {
      "cell_type": "code",
      "metadata": {
        "id": "zO2P3mkxEB5g"
      },
      "source": [
        "analyze = np.frompyfunc(angleToVelocity, 1, 1)\n",
        "\n",
        "result = analyze(angles)"
      ],
      "execution_count": null,
      "outputs": []
    },
    {
      "cell_type": "code",
      "metadata": {
        "colab": {
          "base_uri": "https://localhost:8080/",
          "height": 312
        },
        "id": "zacyKZJGB2to",
        "outputId": "02a8d039-c74f-496f-986e-16e9a7012a8e"
      },
      "source": [
        "plt.plot(angles, result)\n",
        "plt.title('Velocity @ Angle')\n",
        "plt.xlabel('Angle')\n",
        "plt.ylabel('Velocity')\n",
        "plt.figure(figsize=(10, 10))\n",
        "plt.show()\n",
        "print(result)"
      ],
      "execution_count": null,
      "outputs": [
        {
          "output_type": "display_data",
          "data": {
            "image/png": "[encoded data removed]",
            "text/plain": [
              "<Figure size 432x288 with 1 Axes>"
            ]
          },
          "metadata": {
            "tags": [],
            "needs_background": "light"
          }
        },
        {
          "output_type": "display_data",
          "data": {
            "text/plain": [
              "<Figure size 720x720 with 0 Axes>"
            ]
          },
          "metadata": {
            "tags": []
          }
        }
      ]
    }
  ]
}