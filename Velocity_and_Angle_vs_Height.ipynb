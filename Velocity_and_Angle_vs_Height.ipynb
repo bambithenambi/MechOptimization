{
 "cells": [
  {
   "cell_type": "markdown",
   "metadata": {
    "id": "ZrFcrloAUIAP"
   },
   "source": [
    "# Formalities #\n",
    "\n"
   ]
  },
  {
   "cell_type": "markdown",
   "metadata": {
    "id": "9z84_VrxXuOL"
   },
   "source": [
    "## Imports"
   ]
  },
  {
   "cell_type": "code",
   "execution_count": 25,
   "metadata": {
    "id": "sQAj1bFMxzuU"
   },
   "outputs": [],
   "source": [
    "import math\n",
    "import pandas as pd\n",
    "import numpy as np\n",
    "import matplotlib.pyplot as plt\n",
    "import matplotlib.colors as colors\n",
    "from timeit import default_timer as timer\n",
    "from numba import jit, njit, vectorize"
   ]
  },
  {
   "cell_type": "markdown",
   "metadata": {
    "id": "Rt2tFZg7Udcc"
   },
   "source": [
    "## Custom Plot Colormap ##"
   ]
  },
  {
   "cell_type": "code",
   "execution_count": 26,
   "metadata": {
    "id": "56O43jusJzuD"
   },
   "outputs": [],
   "source": [
    "plt.style.use('seaborn-white')\n",
    "class MidpointNormalize(colors.Normalize):\n",
    "    def __init__(self, vmin=None, vmax=None, midpoint=None, clip=False):\n",
    "        self.midpoint = midpoint\n",
    "        colors.Normalize.__init__(self, vmin, vmax, clip)\n",
    "\n",
    "    def __call__(self, value, clip=None):\n",
    "        # I'm ignoring masked values and all kinds of edge cases to make a\n",
    "        # simple example...\n",
    "        x, y = [self.vmin, self.midpoint, self.vmax], [0, 0.5, 1]\n",
    "        return np.ma.masked_array(np.interp(value, x, y))"
   ]
  },
  {
   "cell_type": "markdown",
   "metadata": {
    "id": "BHeBuC4magQK"
   },
   "source": [
    "## Trig Functions in Degrees"
   ]
  },
  {
   "cell_type": "markdown",
   "metadata": {
    "id": "WRFztrPQchR1"
   },
   "source": [
    "\n",
    "\n",
    "``` \n",
    "math.sin(angle*math.pi/180)\n",
    "math.cos(angle*math.pi/180)\n",
    "math.tan(angle*math.pi/180)\n",
    "```\n",
    "\n"
   ]
  },
  {
   "cell_type": "markdown",
   "metadata": {
    "id": "BoW3G6cRXIMR"
   },
   "source": [
    "# Velocity and Angle Effect on Height of Ball at Target Distance"
   ]
  },
  {
   "cell_type": "markdown",
   "metadata": {
    "id": "QmeRx8O8Uo-u"
   },
   "source": [
    "##Constants##\n"
   ]
  },
  {
   "cell_type": "code",
   "execution_count": 27,
   "metadata": {
    "id": "5YBcFHN0Uy-3"
   },
   "outputs": [],
   "source": [
    "Ub = 5 # Upper Bound of Target\n",
    "Lb = 4 # Lower Bound of Target\n",
    "Ht = 4.5 # Midpoint of Target\n",
    "Hs = 0.5 # Height of Shooter\n",
    "Dt = 3 # Distance to Target\n",
    "Db = 0.18 # Diameter of Ball\n",
    "halfGrav = -9.81/2"
   ]
  },
  {
   "cell_type": "code",
   "execution_count": 28,
   "metadata": {
    "id": "emvo0DPJRwOm"
   },
   "outputs": [],
   "source": [
    "angle=np.arange(1, 90, 0.1)\n",
    "velocity=np.arange(0.01, 25.01, 0.01)\n",
    "X, Y = np.meshgrid(angle, velocity)"
   ]
  },
  {
   "cell_type": "markdown",
   "metadata": {
    "id": "usKj4HsNZOIq"
   },
   "source": [
    "## Function ##"
   ]
  },
  {
   "cell_type": "code",
   "execution_count": 29,
   "metadata": {
    "id": "g51zdCPox3zM"
   },
   "outputs": [],
   "source": [
    "@vectorize\n",
    "def findHeightAtTarget(angle, velocity):\n",
    "  t = Dt/(velocity*math.cos(angle*math.pi/180))\n",
    "  return (halfGrav*(t**2))+(velocity*math.sin(angle*math.pi/180)*t)+(Hs)"
   ]
  },
  {
   "cell_type": "code",
   "execution_count": 30,
   "metadata": {
    "id": "FOkyAt29qdbc"
   },
   "outputs": [],
   "source": [
    "@vectorize\n",
    "def vecCondition(item):\n",
    "  u = -Db/2\n",
    "  b = Db/2\n",
    "  if item<b and item>u:\n",
    "      return 0\n",
    "  return 1"
   ]
  },
  {
   "cell_type": "code",
   "execution_count": 31,
   "metadata": {
    "colab": {
     "base_uri": "https://localhost:8080/"
    },
    "id": "KAVB3pW8iztk",
    "outputId": "95bcbdce-b14d-444a-b548-c1bd97eb9cea"
   },
   "outputs": [
    {
     "data": {
      "text/plain": [
       "2.6170999999999998"
      ]
     },
     "execution_count": 31,
     "metadata": {},
     "output_type": "execute_result"
    }
   ],
   "source": [
    "findHeightAtTarget(45, 10)"
   ]
  },
  {
   "cell_type": "markdown",
   "metadata": {
    "id": "5fSoyl5fZZwv"
   },
   "source": [
    "## Plotting"
   ]
  },
  {
   "cell_type": "code",
   "execution_count": 19,
   "metadata": {
    "colab": {
     "base_uri": "https://localhost:8080/",
     "height": 273
    },
    "id": "Bf6qFcm3BoVx",
    "outputId": "fe5fd2b7-5ba1-4b43-ea94-b5044abe5da7"
   },
   "outputs": [
    {
     "data": {
      "application/vnd.jupyter.widget-view+json": {
       "model_id": "0635019327c44cc6a5cf3ae186e8c085",
       "version_major": 2,
       "version_minor": 0
      },
      "text/plain": [
       "Canvas(toolbar=Toolbar(toolitems=[('Home', 'Reset original view', 'home', 'home'), ('Back', 'Back to previous …"
      ]
     },
     "metadata": {},
     "output_type": "display_data"
    }
   ],
   "source": [
    "Z = vecCondition(findHeightAtTarget(X, Y)-Dt)\n",
    "%matplotlib widget\n",
    "plt.contourf(X, Y, Z, 50, norm=MidpointNormalize(midpoint=0.), cmap='seismic')\n",
    "plt.colorbar();"
   ]
  },
  {
   "cell_type": "markdown",
   "metadata": {
    "id": "w5FPJ3AQZmT3"
   },
   "source": [
    "# Testing"
   ]
  },
  {
   "cell_type": "markdown",
   "metadata": {
    "id": "JqEd1oezm0nh"
   },
   "source": [
    "## Speed of Function ##"
   ]
  },
  {
   "cell_type": "code",
   "execution_count": 32,
   "metadata": {
    "id": "TQoXKfG-yV7u"
   },
   "outputs": [],
   "source": [
    "def std(aList, bList):\n",
    "  result = np.zeros(shape=(len(aList),len(bList)))\n",
    "  for a in range(len(aList)):\n",
    "    for b in range(len(bList)):\n",
    "      result[a][b]=findHeightAtTarget(aList[a], bList[b])\n",
    "  return result"
   ]
  },
  {
   "cell_type": "code",
   "execution_count": 35,
   "metadata": {
    "colab": {
     "base_uri": "https://localhost:8080/"
    },
    "id": "8JzkQekKFJbI",
    "outputId": "e3f45e73-4f87-46cd-f574-d1e95fe5434c"
   },
   "outputs": [
    {
     "name": "stdout",
     "output_type": "stream",
     "text": [
      "Wall time: 35.9 ms\n"
     ]
    }
   ],
   "source": [
    "%time Z = findHeightAtTarget(X, Y)"
   ]
  },
  {
   "cell_type": "code",
   "execution_count": 36,
   "metadata": {
    "colab": {
     "base_uri": "https://localhost:8080/"
    },
    "id": "_Ld5TOIT39T6",
    "outputId": "dddafc80-a1f9-4866-f12d-fe4a4f749054"
   },
   "outputs": [
    {
     "name": "stdout",
     "output_type": "stream",
     "text": [
      "Wall time: 5.79 s\n"
     ]
    },
    {
     "data": {
      "text/plain": [
       "array([[-4.41583948e+05, -1.10395573e+05, -4.90643922e+04, ...,\n",
       "         4.81598493e-01,  4.81655118e-01,  4.81711675e-01],\n",
       "       [-4.41612195e+05, -1.10402631e+05, -4.90675260e+04, ...,\n",
       "         4.86831714e-01,  4.86888342e-01,  4.86944902e-01],\n",
       "       [-4.41643135e+05, -1.10410362e+05, -4.90709592e+04, ...,\n",
       "         4.92064853e-01,  4.92121486e-01,  4.92178050e-01],\n",
       "       ...,\n",
       "       [-1.61023117e+10, -4.02557750e+09, -1.78914524e+09, ...,\n",
       "        -2.00704455e+03, -2.00497974e+03, -2.00291741e+03],\n",
       "       [-3.62300179e+10, -9.05750382e+09, -4.02555678e+09, ...,\n",
       "        -4.94615582e+03, -4.94151002e+03, -4.93686979e+03],\n",
       "       [-1.44919632e+11, -3.62299066e+10, -1.61021798e+10, ...,\n",
       "        -2.15049137e+04, -2.14863306e+04, -2.14677697e+04]])"
      ]
     },
     "execution_count": 36,
     "metadata": {},
     "output_type": "execute_result"
    }
   ],
   "source": [
    "%time std(angle, velocity)"
   ]
  },
  {
   "cell_type": "code",
   "execution_count": 37,
   "metadata": {},
   "outputs": [],
   "source": [
    "del X, Y, angle, velocity"
   ]
  },
  {
   "cell_type": "markdown",
   "metadata": {
    "id": "S48xzyB7m8S6"
   },
   "source": [
    "## Plotting"
   ]
  },
  {
   "cell_type": "code",
   "execution_count": 7,
   "metadata": {
    "colab": {
     "base_uri": "https://localhost:8080/",
     "height": 273
    },
    "collapsed": true,
    "id": "wl7nVFpNjF8Z",
    "jupyter": {
     "outputs_hidden": true,
     "source_hidden": true
    },
    "outputId": "101d3572-c11a-4508-c385-1ca5746297fb"
   },
   "outputs": [
    {
     "data": {
      "application/vnd.jupyter.widget-view+json": {
       "model_id": "562203b32f614de69a357b3c8d18d36f",
       "version_major": 2,
       "version_minor": 0
      },
      "text/plain": [
       "Canvas(toolbar=Toolbar(toolitems=[('Home', 'Reset original view', 'home', 'home'), ('Back', 'Back to previous …"
      ]
     },
     "metadata": {},
     "output_type": "display_data"
    },
    {
     "data": {
      "text/plain": [
       "<matplotlib.colorbar.Colorbar at 0x2136c550490>"
      ]
     },
     "execution_count": 7,
     "metadata": {},
     "output_type": "execute_result"
    }
   ],
   "source": [
    "a=np.arange(25, 90.01, 0.1, dtype=\"float32\")\n",
    "b=np.arange(7.5, 25.1, 0.01, dtype=\"float32\")\n",
    "X, Y = np.meshgrid(a, b)\n",
    "Z = vecCondition(findHeightAtTarget(X, Y)-Dt)\n",
    "#Z = findHeightAtTarget(X, Y)-Dt\n",
    "%matplotlib widget \n",
    "plt.contourf(X, Y, Z, 50, norm=MidpointNormalize(midpoint=0.), cmap='seismic')\n",
    "plt.show()\n",
    "plt.colorbar()\n",
    "#print(X)\n",
    "#print(Y)\n",
    "#print(Z)"
   ]
  },
  {
   "cell_type": "markdown",
   "metadata": {
    "id": "CwTtI9Dbm_7L"
   },
   "source": [
    "## Speed of Condiontal Formatting ##"
   ]
  },
  {
   "cell_type": "code",
   "execution_count": 49,
   "metadata": {
    "id": "Gm-AMfLXnK9L"
   },
   "outputs": [],
   "source": [
    "def normalCondition(array):\n",
    "    u = -0.5\n",
    "    b = 0.5\n",
    "    l = len(array[0])\n",
    "    for i in range(len(array)):\n",
    "        for j in range(l):\n",
    "            if array[i][j]<b and array[i][j]>u:\n",
    "                array[i][j]=0\n",
    "            else:\n",
    "                array[i][j]=1"
   ]
  },
  {
   "cell_type": "code",
   "execution_count": 50,
   "metadata": {
    "colab": {
     "base_uri": "https://localhost:8080/"
    },
    "id": "jjVgYE2utwVN",
    "outputId": "5a0baa55-6251-4214-a4f7-00b7a9b31bf8"
   },
   "outputs": [
    {
     "name": "stdout",
     "output_type": "stream",
     "text": [
      "Wall time: 7.98 ms\n"
     ]
    },
    {
     "data": {
      "text/plain": [
       "array([[1, 1, 1, ..., 1, 1, 1],\n",
       "       [1, 1, 1, ..., 1, 1, 1],\n",
       "       [1, 1, 1, ..., 1, 1, 1],\n",
       "       ...,\n",
       "       [1, 1, 1, ..., 1, 1, 1],\n",
       "       [1, 1, 1, ..., 1, 1, 1],\n",
       "       [1, 1, 1, ..., 1, 1, 1]], dtype=int64)"
      ]
     },
     "execution_count": 50,
     "metadata": {},
     "output_type": "execute_result"
    }
   ],
   "source": [
    "%time vecCondition(Z)"
   ]
  },
  {
   "cell_type": "code",
   "execution_count": 51,
   "metadata": {
    "colab": {
     "base_uri": "https://localhost:8080/"
    },
    "id": "sFYiL7Rsodfw",
    "outputId": "5b1fe0b3-7aaf-41f3-9689-b339d3f6e5de"
   },
   "outputs": [
    {
     "name": "stdout",
     "output_type": "stream",
     "text": [
      "Wall time: 2.16 s\n"
     ]
    }
   ],
   "source": [
    "%time normalCondition(Z)"
   ]
  }
 ],
 "metadata": {
  "colab": {
   "collapsed_sections": [
    "9z84_VrxXuOL"
   ],
   "name": "Velocity and Angle vs Height.ipynb",
   "provenance": []
  },
  "kernelspec": {
   "display_name": "Python 3",
   "language": "python",
   "name": "python3"
  },
  "language_info": {
   "codemirror_mode": {
    "name": "ipython",
    "version": 3
   },
   "file_extension": ".py",
   "mimetype": "text/x-python",
   "name": "python",
   "nbconvert_exporter": "python",
   "pygments_lexer": "ipython3",
   "version": "3.8.5"
  }
 },
 "nbformat": 4,
 "nbformat_minor": 4
}
