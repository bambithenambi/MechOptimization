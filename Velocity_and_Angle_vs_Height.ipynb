{
 "cells": [
  {
   "cell_type": "markdown",
   "metadata": {
    "id": "ZrFcrloAUIAP"
   },
   "source": [
    "# Formalities #\n",
    "\n"
   ]
  },
  {
   "cell_type": "markdown",
   "metadata": {
    "id": "9z84_VrxXuOL"
   },
   "source": [
    "## Imports"
   ]
  },
  {
   "cell_type": "code",
   "execution_count": 1,
   "metadata": {
    "id": "sQAj1bFMxzuU"
   },
   "outputs": [],
   "source": [
    "import math\n",
    "import pandas as pd\n",
    "import numpy as np\n",
    "import matplotlib.pyplot as plt\n",
    "import matplotlib.colors as colors\n",
    "from timeit import default_timer as timer\n",
    "from numba import jit, njit, vectorize"
   ]
  },
  {
   "cell_type": "markdown",
   "metadata": {
    "id": "Rt2tFZg7Udcc"
   },
   "source": [
    "## Custom Plot Colormap ##"
   ]
  },
  {
   "cell_type": "code",
   "execution_count": 2,
   "metadata": {
    "id": "56O43jusJzuD"
   },
   "outputs": [],
   "source": [
    "plt.style.use('seaborn-white')\n",
    "class MidpointNormalize(colors.Normalize):\n",
    "    def __init__(self, vmin=None, vmax=None, midpoint=None, clip=False):\n",
    "        self.midpoint = midpoint\n",
    "        colors.Normalize.__init__(self, vmin, vmax, clip)\n",
    "\n",
    "    def __call__(self, value, clip=None):\n",
    "        # I'm ignoring masked values and all kinds of edge cases to make a\n",
    "        # simple example...\n",
    "        x, y = [self.vmin, self.midpoint, self.vmax], [0, 0.5, 1]\n",
    "        return np.ma.masked_array(np.interp(value, x, y))"
   ]
  },
  {
   "cell_type": "markdown",
   "metadata": {
    "id": "BHeBuC4magQK"
   },
   "source": [
    "## Trig Functions in Degrees"
   ]
  },
  {
   "cell_type": "markdown",
   "metadata": {
    "id": "WRFztrPQchR1"
   },
   "source": [
    "\n",
    "\n",
    "``` \n",
    "math.sin(angle*math.pi/180)\n",
    "math.cos(angle*math.pi/180)\n",
    "math.tan(angle*math.pi/180)\n",
    "```\n",
    "\n"
   ]
  },
  {
   "cell_type": "markdown",
   "metadata": {
    "id": "BoW3G6cRXIMR"
   },
   "source": [
    "# Velocity and Angle Effect on Height of Ball at Target Distance"
   ]
  },
  {
   "cell_type": "markdown",
   "metadata": {
    "id": "QmeRx8O8Uo-u"
   },
   "source": [
    "##Constants##\n"
   ]
  },
  {
   "cell_type": "code",
   "execution_count": 47,
   "metadata": {
    "id": "5YBcFHN0Uy-3"
   },
   "outputs": [],
   "source": [
    "Ub = 5 # Upper Bound of Target\n",
    "Lb = 4 # Lower Bound of Target\n",
    "Ht = 4.5 # Midpoint of Target\n",
    "Hs = 0.5 # Height of Shooter\n",
    "Dt = 3 # Distance to Target\n",
    "Db = 0.18 # Diameter of Ball\n",
    "halfGrav = -9.81/2"
   ]
  },
  {
   "cell_type": "code",
   "execution_count": 48,
   "metadata": {
    "id": "emvo0DPJRwOm"
   },
   "outputs": [],
   "source": [
    "angle=np.arange(1, 90, 0.1)\n",
    "velocity=np.arange(0.01, 25.01, 0.01)\n",
    "X, Y = np.meshgrid(angle, velocity)"
   ]
  },
  {
   "cell_type": "markdown",
   "metadata": {
    "id": "usKj4HsNZOIq"
   },
   "source": [
    "## Function ##"
   ]
  },
  {
   "cell_type": "code",
   "execution_count": 49,
   "metadata": {
    "id": "g51zdCPox3zM"
   },
   "outputs": [],
   "source": [
    "@vectorize\n",
    "def findHeightAtTarget(angle, velocity):\n",
    "  t = Dt/(velocity*math.cos(angle*math.pi/180))\n",
    "  return (halfGrav*(t**2))+(velocity*math.sin(angle*math.pi/180)*t)+(Hs)"
   ]
  },
  {
   "cell_type": "code",
   "execution_count": 50,
   "metadata": {
    "id": "FOkyAt29qdbc"
   },
   "outputs": [],
   "source": [
    "@vectorize\n",
    "def vecCondition(item):\n",
    "  u = -Db/2\n",
    "  b = Db/2\n",
    "  if item<b and item>u:\n",
    "      return 0\n",
    "  return 1"
   ]
  },
  {
   "cell_type": "code",
   "execution_count": 51,
   "metadata": {
    "colab": {
     "base_uri": "https://localhost:8080/"
    },
    "id": "KAVB3pW8iztk",
    "outputId": "95bcbdce-b14d-444a-b548-c1bd97eb9cea"
   },
   "outputs": [
    {
     "data": {
      "text/plain": [
       "2.6170999999999998"
      ]
     },
     "execution_count": 51,
     "metadata": {},
     "output_type": "execute_result"
    }
   ],
   "source": [
    "findHeightAtTarget(45, 10)"
   ]
  },
  {
   "cell_type": "markdown",
   "metadata": {
    "id": "5fSoyl5fZZwv"
   },
   "source": [
    "## Plotting"
   ]
  },
  {
   "cell_type": "code",
   "execution_count": 52,
   "metadata": {
    "colab": {
     "base_uri": "https://localhost:8080/",
     "height": 273
    },
    "id": "Bf6qFcm3BoVx",
    "outputId": "fe5fd2b7-5ba1-4b43-ea94-b5044abe5da7"
   },
   "outputs": [
    {
     "data": {
      "application/vnd.jupyter.widget-view+json": {
       "model_id": "a37f82b2e8a34dadb84460a77fa55d5e",
       "version_major": 2,
       "version_minor": 0
      },
      "text/plain": [
       "Canvas(toolbar=Toolbar(toolitems=[('Home', 'Reset original view', 'home', 'home'), ('Back', 'Back to previous …"
      ]
     },
     "metadata": {},
     "output_type": "display_data"
    }
   ],
   "source": [
    "Z = vecCondition(findHeightAtTarget(X, Y)-Dt)\n",
    "%matplotlib widget\n",
    "plt.contourf(X, Y, Z, 50, norm=MidpointNormalize(midpoint=0.), cmap='seismic')\n",
    "plt.colorbar();"
   ]
  },
  {
   "cell_type": "markdown",
   "metadata": {
    "id": "w5FPJ3AQZmT3"
   },
   "source": [
    "# Testing"
   ]
  },
  {
   "cell_type": "markdown",
   "metadata": {
    "id": "JqEd1oezm0nh"
   },
   "source": [
    "## Speed of Function ##"
   ]
  },
  {
   "cell_type": "code",
   "execution_count": 8,
   "metadata": {
    "id": "TQoXKfG-yV7u",
    "jupyter": {
     "source_hidden": true
    }
   },
   "outputs": [],
   "source": [
    "def std(aList, bList):\n",
    "  result = np.zeros(shape=(len(aList),len(bList)))\n",
    "  for a in range(len(aList)):\n",
    "    for b in range(len(bList)):\n",
    "      result[a][b]=findHeightAtTarget(aList[a], bList[b])\n",
    "  return result"
   ]
  },
  {
   "cell_type": "code",
   "execution_count": 14,
   "metadata": {
    "id": "NAEo0bc9fKx9",
    "jupyter": {
     "source_hidden": true
    }
   },
   "outputs": [],
   "source": [
    "array1=np.arange(1.0, 90.1, 0.1)\n",
    "array2=np.arange(0.001, 90.001, 0.001)\n",
    "A, B = np.meshgrid(angle, velocity)"
   ]
  },
  {
   "cell_type": "code",
   "execution_count": 15,
   "metadata": {
    "colab": {
     "base_uri": "https://localhost:8080/"
    },
    "collapsed": true,
    "id": "8JzkQekKFJbI",
    "jupyter": {
     "outputs_hidden": true,
     "source_hidden": true
    },
    "outputId": "e3f45e73-4f87-46cd-f574-d1e95fe5434c"
   },
   "outputs": [
    {
     "name": "stdout",
     "output_type": "stream",
     "text": [
      "Wall time: 499 ms\n"
     ]
    },
    {
     "data": {
      "text/plain": [
       "array([[-4.41583948e+05, -4.41612195e+05, -4.41643135e+05, ...,\n",
       "        -3.62300179e+10, -1.44919632e+11, -1.98022905e+35],\n",
       "       [-1.10395573e+05, -1.10402631e+05, -1.10410362e+05, ...,\n",
       "        -9.05750382e+09, -3.62299066e+10, -4.95057261e+34],\n",
       "       [-4.90643922e+04, -4.90675260e+04, -4.90709592e+04, ...,\n",
       "        -4.02555678e+09, -1.61021798e+10, -2.20025450e+34],\n",
       "       ...,\n",
       "       [ 5.51658547e-01,  5.56896249e-01,  5.62134299e-01, ...,\n",
       "         8.01955896e+02,  1.48746312e+03, -3.16887347e+26],\n",
       "       [ 5.51658603e-01,  5.56896306e-01,  5.62134355e-01, ...,\n",
       "         8.01960534e+02,  1.48748168e+03, -3.16861996e+26],\n",
       "       [ 5.51658660e-01,  5.56896362e-01,  5.62134412e-01, ...,\n",
       "         8.01965172e+02,  1.48750023e+03, -3.16836647e+26]])"
      ]
     },
     "execution_count": 15,
     "metadata": {},
     "output_type": "execute_result"
    }
   ],
   "source": [
    "%time findHeightAtTarget(A, B)"
   ]
  },
  {
   "cell_type": "code",
   "execution_count": 16,
   "metadata": {
    "colab": {
     "base_uri": "https://localhost:8080/"
    },
    "collapsed": true,
    "id": "_Ld5TOIT39T6",
    "jupyter": {
     "outputs_hidden": true,
     "source_hidden": true
    },
    "outputId": "dddafc80-a1f9-4866-f12d-fe4a4f749054"
   },
   "outputs": [
    {
     "name": "stdout",
     "output_type": "stream",
     "text": [
      "Wall time: 4min 31s\n"
     ]
    },
    {
     "data": {
      "text/plain": [
       "array([[-4.41584495e+07, -1.10396120e+07, -4.90649390e+06, ...,\n",
       "         5.46913292e-01,  5.46913413e-01,  5.46913534e-01],\n",
       "       [-4.41612747e+07, -1.10403183e+07, -4.90680781e+06, ...,\n",
       "         5.52150691e-01,  5.52150812e-01,  5.52150933e-01],\n",
       "       [-4.41643693e+07, -1.10410919e+07, -4.90715164e+06, ...,\n",
       "         5.57388408e-01,  5.57388529e-01,  5.57388650e-01],\n",
       "       ...,\n",
       "       [-3.62300187e+12, -9.05750467e+11, -4.02555763e+11, ...,\n",
       "         4.12629140e+02,  4.12639080e+02,  4.12649020e+02],\n",
       "       [-1.44919633e+13, -3.62299084e+12, -1.61021815e+12, ...,\n",
       "        -6.98391570e+01, -6.97993965e+01, -6.97596374e+01],\n",
       "       [-1.98022905e+37, -4.95057261e+36, -2.20025450e+36, ...,\n",
       "        -2.44483588e+27, -2.44478155e+27, -2.44472722e+27]])"
      ]
     },
     "execution_count": 16,
     "metadata": {},
     "output_type": "execute_result"
    }
   ],
   "source": [
    "%time std(array1, array2)"
   ]
  },
  {
   "cell_type": "markdown",
   "metadata": {
    "id": "S48xzyB7m8S6"
   },
   "source": [
    "## Plotting"
   ]
  },
  {
   "cell_type": "code",
   "execution_count": 7,
   "metadata": {
    "colab": {
     "base_uri": "https://localhost:8080/",
     "height": 273
    },
    "collapsed": true,
    "id": "wl7nVFpNjF8Z",
    "jupyter": {
     "outputs_hidden": true,
     "source_hidden": true
    },
    "outputId": "101d3572-c11a-4508-c385-1ca5746297fb"
   },
   "outputs": [
    {
     "data": {
      "application/vnd.jupyter.widget-view+json": {
       "model_id": "562203b32f614de69a357b3c8d18d36f",
       "version_major": 2,
       "version_minor": 0
      },
      "text/plain": [
       "Canvas(toolbar=Toolbar(toolitems=[('Home', 'Reset original view', 'home', 'home'), ('Back', 'Back to previous …"
      ]
     },
     "metadata": {},
     "output_type": "display_data"
    },
    {
     "data": {
      "text/plain": [
       "<matplotlib.colorbar.Colorbar at 0x2136c550490>"
      ]
     },
     "execution_count": 7,
     "metadata": {},
     "output_type": "execute_result"
    }
   ],
   "source": [
    "a=np.arange(25, 90.01, 0.1, dtype=\"float32\")\n",
    "b=np.arange(7.5, 25.1, 0.01, dtype=\"float32\")\n",
    "X, Y = np.meshgrid(a, b)\n",
    "Z = vecCondition(findHeightAtTarget(X, Y)-Dt)\n",
    "#Z = findHeightAtTarget(X, Y)-Dt\n",
    "%matplotlib widget \n",
    "plt.contourf(X, Y, Z, 50, norm=MidpointNormalize(midpoint=0.), cmap='seismic')\n",
    "plt.show()\n",
    "plt.colorbar()\n",
    "#print(X)\n",
    "#print(Y)\n",
    "#print(Z)"
   ]
  },
  {
   "cell_type": "markdown",
   "metadata": {
    "id": "CwTtI9Dbm_7L"
   },
   "source": [
    "## Speed of Condiontal Formatting ##"
   ]
  },
  {
   "cell_type": "code",
   "execution_count": 30,
   "metadata": {
    "id": "Gm-AMfLXnK9L",
    "jupyter": {
     "source_hidden": true
    }
   },
   "outputs": [],
   "source": [
    "def normalCondition(array):\n",
    "  u = -0.5\n",
    "  b = 0.5\n",
    "  for i in range(len(array)):\n",
    "    if array[i]<b and array[i]>u:\n",
    "      array[i]=0\n",
    "      \n",
    "test = np.linspace(-1, 1, 20000001, dtype=\"float32\")"
   ]
  },
  {
   "cell_type": "code",
   "execution_count": 23,
   "metadata": {
    "colab": {
     "base_uri": "https://localhost:8080/"
    },
    "collapsed": true,
    "id": "sFYiL7Rsodfw",
    "jupyter": {
     "outputs_hidden": true,
     "source_hidden": true
    },
    "outputId": "5b1fe0b3-7aaf-41f3-9689-b339d3f6e5de"
   },
   "outputs": [
    {
     "name": "stdout",
     "output_type": "stream",
     "text": [
      "Wall time: 6.56 s\n"
     ]
    }
   ],
   "source": [
    "%time normalCondition(test)"
   ]
  },
  {
   "cell_type": "code",
   "execution_count": 35,
   "metadata": {
    "colab": {
     "base_uri": "https://localhost:8080/"
    },
    "collapsed": true,
    "id": "jjVgYE2utwVN",
    "jupyter": {
     "outputs_hidden": true,
     "source_hidden": true
    },
    "outputId": "5a0baa55-6251-4214-a4f7-00b7a9b31bf8"
   },
   "outputs": [
    {
     "name": "stdout",
     "output_type": "stream",
     "text": [
      "Wall time: 85.7 ms\n"
     ]
    },
    {
     "data": {
      "text/plain": [
       "array([-1.        , -0.99999988, -0.99999982, ...,  0.99999982,\n",
       "        0.99999988,  1.        ])"
      ]
     },
     "execution_count": 35,
     "metadata": {},
     "output_type": "execute_result"
    }
   ],
   "source": [
    "%time vecCondition(test)"
   ]
  }
 ],
 "metadata": {
  "colab": {
   "collapsed_sections": [
    "9z84_VrxXuOL"
   ],
   "name": "Velocity and Angle vs Height.ipynb",
   "provenance": []
  },
  "kernelspec": {
   "display_name": "Python 3",
   "language": "python",
   "name": "python3"
  },
  "language_info": {
   "codemirror_mode": {
    "name": "ipython",
    "version": 3
   },
   "file_extension": ".py",
   "mimetype": "text/x-python",
   "name": "python",
   "nbconvert_exporter": "python",
   "pygments_lexer": "ipython3",
   "version": "3.8.5"
  }
 },
 "nbformat": 4,
 "nbformat_minor": 4
}
