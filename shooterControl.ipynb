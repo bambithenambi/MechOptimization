{
  "nbformat": 4,
  "nbformat_minor": 0,
  "metadata": {
    "colab": {
      "name": "shooterControl.ipynb",
      "provenance": [],
      "collapsed_sections": [],
      "authorship_tag": "ABX9TyOQERvJ3VAF9FA1lAQz5OKC",
      "include_colab_link": true
    },
    "kernelspec": {
      "name": "python3",
      "display_name": "Python 3"
    },
    "language_info": {
      "name": "python"
    }
  },
  "cells": [
    {
      "cell_type": "markdown",
      "metadata": {
        "id": "view-in-github",
        "colab_type": "text"
      },
      "source": [
        "<a href=\"https://colab.research.google.com/github/bambithenambi/MechOptimization/blob/main/shooterControl.ipynb\" target=\"_parent\"><img src=\"https://colab.research.google.com/assets/colab-badge.svg\" alt=\"Open In Colab\"/></a>"
      ]
    },
    {
      "cell_type": "code",
      "metadata": {
        "id": "FAQZAlSxHpI2"
      },
      "source": [
        "import math\n",
        "import pandas as pd\n",
        "import numpy as np\n",
        "import matplotlib.pyplot as plt\n",
        "from numba import jit, njit, vectorize\n",
        "from timeit import default_timer as timer\n",
        "\n",
        "#all units based in feet\n",
        "height = 8.0\n",
        "g=32.174\n",
        "distances = np.arange(1.0, 55.0, .04)\n",
        "\n",
        "@vectorize\n",
        "def ang(distance):\n",
        "    angle = math.atan(2*height/distance)\n",
        "    return angle\n",
        "\n",
        "@vectorize\n",
        "def vel(distance, angle):\n",
        "    a = -g*distance**2\n",
        "    b = 2*(math.cos(angle)**2)\n",
        "    c = height-distance*math.tan(angle) \n",
        "    velocity = math.sqrt(a/(b*c))\n",
        "    return velocity"
      ],
      "execution_count": 35,
      "outputs": []
    },
    {
      "cell_type": "code",
      "metadata": {
        "colab": {
          "base_uri": "https://localhost:8080/",
          "height": 384
        },
        "id": "fsWOHxI2Jh68",
        "outputId": "40247a20-6767-4197-d284-60797877e091"
      },
      "source": [
        "%time angle = ang(distances)\n",
        "%time velocity = vel(distances, angle)\n",
        "%time degrees = np.degrees(angle)\n",
        "plt.plot(distances, degrees)\n",
        "plt.plot(distances, velocity)\n",
        "#angle, velocity = shoot(distances)"
      ],
      "execution_count": 41,
      "outputs": [
        {
          "output_type": "stream",
          "text": [
            "CPU times: user 82 µs, sys: 3 µs, total: 85 µs\n",
            "Wall time: 89.9 µs\n",
            "CPU times: user 92 µs, sys: 4 µs, total: 96 µs\n",
            "Wall time: 98.2 µs\n",
            "CPU times: user 20 µs, sys: 0 ns, total: 20 µs\n",
            "Wall time: 22.4 µs\n"
          ],
          "name": "stdout"
        },
        {
          "output_type": "execute_result",
          "data": {
            "text/plain": [
              "[<matplotlib.lines.Line2D at 0x7fa043e7bd10>]"
            ]
          },
          "metadata": {},
          "execution_count": 41
        },
        {
          "output_type": "display_data",
          "data": {
            "image/png": "[encoded data removed]",
            "text/plain": [
              "<Figure size 432x288 with 1 Axes>"
            ]
          },
          "metadata": {
            "needs_background": "light"
          }
        }
      ]
    }
  ]
}