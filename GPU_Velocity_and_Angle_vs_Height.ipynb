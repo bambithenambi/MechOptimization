{
  "nbformat": 4,
  "nbformat_minor": 0,
  "metadata": {
    "colab": {
      "name": "GPU Velocity and Angle vs Height.ipynb",
      "provenance": [],
      "collapsed_sections": [
        "9z84_VrxXuOL"
      ],
      "authorship_tag": "ABX9TyN/oDqMYiaDQZlYzcKGJW65",
      "include_colab_link": true
    },
    "kernelspec": {
      "name": "python3",
      "display_name": "Python 3"
    },
    "language_info": {
      "name": "python"
    },
    "accelerator": "GPU"
  },
  "cells": [
    {
      "cell_type": "markdown",
      "metadata": {
        "id": "view-in-github",
        "colab_type": "text"
      },
      "source": [
        "<a href=\"https://colab.research.google.com/github/bambithenambi/MechOptimization/blob/main/GPU_Velocity_and_Angle_vs_Height.ipynb\" target=\"_parent\"><img src=\"https://colab.research.google.com/assets/colab-badge.svg\" alt=\"Open In Colab\"/></a>"
      ]
    },
    {
      "cell_type": "markdown",
      "metadata": {
        "id": "zwo5mvIJCMqI"
      },
      "source": [
        "# USE GPU-Based"
      ]
    },
    {
      "cell_type": "markdown",
      "metadata": {
        "id": "ZrFcrloAUIAP"
      },
      "source": [
        "# Formalities #\n",
        "\n"
      ]
    },
    {
      "cell_type": "markdown",
      "metadata": {
        "id": "9z84_VrxXuOL"
      },
      "source": [
        "## Imports"
      ]
    },
    {
      "cell_type": "code",
      "metadata": {
        "id": "sQAj1bFMxzuU"
      },
      "source": [
        "import math\n",
        "import pandas as pd\n",
        "import numpy as np\n",
        "import matplotlib.pyplot as plt\n",
        "import matplotlib.colors as colors\n",
        "from timeit import default_timer as timer\n",
        "from numba import jit, njit, vectorize"
      ],
      "execution_count": 1,
      "outputs": []
    },
    {
      "cell_type": "markdown",
      "metadata": {
        "id": "Rt2tFZg7Udcc"
      },
      "source": [
        "## Custom Plot Colormap ##"
      ]
    },
    {
      "cell_type": "code",
      "metadata": {
        "id": "56O43jusJzuD"
      },
      "source": [
        "plt.style.use('seaborn-white')\n",
        "class MidpointNormalize(colors.Normalize):\n",
        "    def __init__(self, vmin=None, vmax=None, midpoint=None, clip=False):\n",
        "        self.midpoint = midpoint\n",
        "        colors.Normalize.__init__(self, vmin, vmax, clip)\n",
        "\n",
        "    def __call__(self, value, clip=None):\n",
        "        # I'm ignoring masked values and all kinds of edge cases to make a\n",
        "        # simple example...\n",
        "        x, y = [self.vmin, self.midpoint, self.vmax], [0, 0.5, 1]\n",
        "        return np.ma.masked_array(np.interp(value, x, y))"
      ],
      "execution_count": 2,
      "outputs": []
    },
    {
      "cell_type": "markdown",
      "metadata": {
        "id": "BHeBuC4magQK"
      },
      "source": [
        "## Trig Functions in Degrees"
      ]
    },
    {
      "cell_type": "markdown",
      "metadata": {
        "id": "WRFztrPQchR1"
      },
      "source": [
        "\n",
        "\n",
        "``` \n",
        "math.sin(angle*math.pi/180)\n",
        "math.cos(angle*math.pi/180)\n",
        "math.tan(angle*math.pi/180)\n",
        "```\n",
        "\n"
      ]
    },
    {
      "cell_type": "markdown",
      "metadata": {
        "id": "BoW3G6cRXIMR"
      },
      "source": [
        "# Velocity and Angle Effect on Height of Ball at Target Distance"
      ]
    },
    {
      "cell_type": "markdown",
      "metadata": {
        "id": "QmeRx8O8Uo-u"
      },
      "source": [
        "##Constants##\n"
      ]
    },
    {
      "cell_type": "code",
      "metadata": {
        "id": "5YBcFHN0Uy-3"
      },
      "source": [
        "Ub = 5 # Upper Bound of Target\n",
        "Lb = 4 # Lower Bound of Target\n",
        "Ht = 4.5 # Midpoint of Target\n",
        "Hs = 0.5 # Height of Shooter\n",
        "Dt = 3 # Distance to Target\n",
        "Db = 0.18 # Diameter of Ball\n",
        "halfGrav = -9.81/2"
      ],
      "execution_count": 3,
      "outputs": []
    },
    {
      "cell_type": "code",
      "metadata": {
        "id": "emvo0DPJRwOm"
      },
      "source": [
        "angle=np.arange(1, 90, 0.1)\n",
        "velocity=np.arange(0.01, 25.01, 0.01)\n",
        "X, Y = np.meshgrid(angle, velocity)"
      ],
      "execution_count": 12,
      "outputs": []
    },
    {
      "cell_type": "markdown",
      "metadata": {
        "id": "usKj4HsNZOIq"
      },
      "source": [
        "## Function ##"
      ]
    },
    {
      "cell_type": "code",
      "metadata": {
        "id": "g51zdCPox3zM"
      },
      "source": [
        "@vectorize(['float64(float64, float64)',\n",
        "            'float64(float64, float64)'],\n",
        "           target='cuda')\n",
        "def findHeightAtTarget(angle, velocity):\n",
        "  t = Dt/(velocity*math.cos(angle*math.pi/180))\n",
        "  return (halfGrav*(t**2))+(velocity*math.sin(angle*math.pi/180)*t)+(Hs)"
      ],
      "execution_count": 8,
      "outputs": []
    },
    {
      "cell_type": "code",
      "metadata": {
        "id": "FOkyAt29qdbc"
      },
      "source": [
        "@vectorize #so simple its actually better to use cpu for 2 million\n",
        "def vecCondition(item):\n",
        "  u = -Db/2\n",
        "  b = Db/2\n",
        "  if item<b and item>u:\n",
        "      return 0\n",
        "  return 1"
      ],
      "execution_count": 9,
      "outputs": []
    },
    {
      "cell_type": "code",
      "metadata": {
        "colab": {
          "base_uri": "https://localhost:8080/"
        },
        "id": "KAVB3pW8iztk",
        "outputId": "482fe47d-154c-4afd-b813-d909ce64a57e"
      },
      "source": [
        "findHeightAtTarget(45, 10)"
      ],
      "execution_count": 10,
      "outputs": [
        {
          "output_type": "execute_result",
          "data": {
            "text/plain": [
              "array([2.6171])"
            ]
          },
          "metadata": {
            "tags": []
          },
          "execution_count": 10
        }
      ]
    },
    {
      "cell_type": "markdown",
      "metadata": {
        "id": "5fSoyl5fZZwv"
      },
      "source": [
        "## Plotting"
      ]
    },
    {
      "cell_type": "code",
      "metadata": {
        "colab": {
          "base_uri": "https://localhost:8080/",
          "height": 266
        },
        "id": "Bf6qFcm3BoVx",
        "outputId": "97492c24-5139-479c-ed4e-fdafbba523b8"
      },
      "source": [
        "Z = vecCondition(findHeightAtTarget(X, Y)-Dt)\n",
        "plt.contourf(X, Y, Z, 50, norm=MidpointNormalize(midpoint=0.), cmap='seismic')\n",
        "plt.colorbar();"
      ],
      "execution_count": 14,
      "outputs": [
        {
          "output_type": "display_data",
          "data": {
            "image/png": "[encoded data removed]",
            "text/plain": [
              "<Figure size 432x288 with 2 Axes>"
            ]
          },
          "metadata": {
            "tags": []
          }
        }
      ]
    },
    {
      "cell_type": "markdown",
      "metadata": {
        "id": "w5FPJ3AQZmT3"
      },
      "source": [
        "# Testing"
      ]
    },
    {
      "cell_type": "markdown",
      "metadata": {
        "id": "JqEd1oezm0nh"
      },
      "source": [
        "## Speed of Function ##"
      ]
    },
    {
      "cell_type": "code",
      "metadata": {
        "id": "TQoXKfG-yV7u"
      },
      "source": [
        "def std(aList, bList):\n",
        "  result = np.zeros(shape=(len(aList),len(bList)))\n",
        "  for a in range(len(aList)):\n",
        "    for b in range(len(bList)):\n",
        "      result[a][b]=findHeightAtTarget(aList[a], bList[b])\n",
        "  return result"
      ],
      "execution_count": 28,
      "outputs": []
    },
    {
      "cell_type": "code",
      "metadata": {
        "id": "NAEo0bc9fKx9"
      },
      "source": [
        "array1=np.arange(1.0, 90.1, 0.1, dtype=\"float64\")\n",
        "array2=np.arange(0.001, 90.001, 0.001, dtype=\"float64\")\n",
        "A, B = np.meshgrid(angle, velocity)"
      ],
      "execution_count": 50,
      "outputs": []
    },
    {
      "cell_type": "code",
      "metadata": {
        "colab": {
          "base_uri": "https://localhost:8080/"
        },
        "id": "8JzkQekKFJbI",
        "outputId": "a8c9c0db-8b92-4747-a4a5-ac148a461673"
      },
      "source": [
        "%time findHeightAtTarget(A, B)"
      ],
      "execution_count": 51,
      "outputs": [
        {
          "output_type": "stream",
          "text": [
            "CPU times: user 149 ms, sys: 2.65 ms, total: 152 ms\n",
            "Wall time: 155 ms\n"
          ],
          "name": "stdout"
        },
        {
          "output_type": "execute_result",
          "data": {
            "text/plain": [
              "array([[-4.41583948e+05, -4.41612195e+05, -4.41643135e+05, ...,\n",
              "        -3.62300179e+10, -1.44919632e+11, -1.98022905e+35],\n",
              "       [-1.10395573e+05, -1.10402631e+05, -1.10410362e+05, ...,\n",
              "        -9.05750382e+09, -3.62299066e+10, -4.95057261e+34],\n",
              "       [-4.90643922e+04, -4.90675260e+04, -4.90709592e+04, ...,\n",
              "        -4.02555678e+09, -1.61021798e+10, -2.20025450e+34],\n",
              "       ...,\n",
              "       [ 5.51658547e-01,  5.56896249e-01,  5.62134299e-01, ...,\n",
              "         8.01955896e+02,  1.48746312e+03, -3.16887347e+26],\n",
              "       [ 5.51658603e-01,  5.56896306e-01,  5.62134355e-01, ...,\n",
              "         8.01960534e+02,  1.48748168e+03, -3.16861996e+26],\n",
              "       [ 5.51658660e-01,  5.56896362e-01,  5.62134412e-01, ...,\n",
              "         8.01965172e+02,  1.48750023e+03, -3.16836647e+26]])"
            ]
          },
          "metadata": {
            "tags": []
          },
          "execution_count": 51
        }
      ]
    },
    {
      "cell_type": "code",
      "metadata": {
        "colab": {
          "base_uri": "https://localhost:8080/"
        },
        "id": "_Ld5TOIT39T6",
        "outputId": "dddafc80-a1f9-4866-f12d-fe4a4f749054"
      },
      "source": [
        "%time std(array1, array2)"
      ],
      "execution_count": 31,
      "outputs": [
        {
          "output_type": "stream",
          "text": [
            "CPU times: user 21.5 s, sys: 53.8 ms, total: 21.5 s\n",
            "Wall time: 21.6 s\n"
          ],
          "name": "stdout"
        },
        {
          "output_type": "execute_result",
          "data": {
            "text/plain": [
              "array([[-2.40418228e+08, -6.01045564e+07, -2.67131358e+07, ...,\n",
              "        -2.34726043e+00, -2.34660051e+00, -2.34594082e+00],\n",
              "       [-2.40433609e+08, -6.01084018e+07, -2.67148449e+07, ...,\n",
              "        -2.33522900e+00, -2.33456904e+00, -2.33390930e+00],\n",
              "       [-2.40450457e+08, -6.01126138e+07, -2.67167169e+07, ...,\n",
              "        -2.32321486e+00, -2.32255486e+00, -2.32189507e+00],\n",
              "       ...,\n",
              "       [-1.97252324e+13, -4.93130810e+12, -2.19169249e+12, ...,\n",
              "        -2.41623812e+05, -2.41569669e+05, -2.41515544e+05],\n",
              "       [-7.89006893e+13, -1.97251723e+13, -8.76674326e+12, ...,\n",
              "        -9.70504454e+05, -9.70287883e+05, -9.70071384e+05],\n",
              "       [-1.07812470e+38, -2.69531176e+37, -1.19791634e+37, ...,\n",
              "        -1.33160991e+30, -1.33131398e+30, -1.33101815e+30]])"
            ]
          },
          "metadata": {
            "tags": []
          },
          "execution_count": 31
        }
      ]
    },
    {
      "cell_type": "markdown",
      "metadata": {
        "id": "kkRYVfosCIyh"
      },
      "source": [
        ""
      ]
    },
    {
      "cell_type": "markdown",
      "metadata": {
        "id": "S48xzyB7m8S6"
      },
      "source": [
        "## Plotting"
      ]
    },
    {
      "cell_type": "code",
      "metadata": {
        "colab": {
          "base_uri": "https://localhost:8080/",
          "height": 262
        },
        "id": "wl7nVFpNjF8Z",
        "outputId": "e915a66f-dbbb-4556-ae9e-e58107bcb546"
      },
      "source": [
        "a=np.arange(25, 90.01, 0.1, dtype=\"float64\")\n",
        "b=np.arange(7.5, 25.1, 0.01, dtype=\"float64\")\n",
        "X, Y = np.meshgrid(a, b)\n",
        "Z = vecCondition(findHeightAtTarget(X, Y)-Dt)\n",
        "#Z = findHeightAtTarget(X, Y)-Dt\n",
        "plt.contourf(X, Y, Z, 50, norm=MidpointNormalize(midpoint=0.), cmap='seismic')\n",
        "plt.colorbar();\n",
        "#print(X)\n",
        "#print(Y)\n",
        "#print(Z)"
      ],
      "execution_count": 31,
      "outputs": [
        {
          "output_type": "display_data",
          "data": {
            "image/png": "[encoded data removed]",
            "text/plain": [
              "<Figure size 432x288 with 2 Axes>"
            ]
          },
          "metadata": {
            "tags": []
          }
        }
      ]
    },
    {
      "cell_type": "markdown",
      "metadata": {
        "id": "CwTtI9Dbm_7L"
      },
      "source": [
        "## Speed of Condiontal Formatting ##"
      ]
    },
    {
      "cell_type": "code",
      "metadata": {
        "id": "Gm-AMfLXnK9L"
      },
      "source": [
        "def normalCondition(array):\n",
        "  u = -0.5\n",
        "  b = 0.5\n",
        "  for i in range(len(array)):\n",
        "    if array[i]<b and array[i]>u:\n",
        "      array[i]=0\n",
        "      \n",
        "test = np.linspace(-1, 1, 2000001, dtype=\"float64\")"
      ],
      "execution_count": 9,
      "outputs": []
    },
    {
      "cell_type": "code",
      "metadata": {
        "colab": {
          "base_uri": "https://localhost:8080/"
        },
        "id": "sFYiL7Rsodfw",
        "outputId": "01c751e1-5aa9-4595-f4df-0f0488d5348e"
      },
      "source": [
        "%time normalCondition(test)"
      ],
      "execution_count": 53,
      "outputs": [
        {
          "output_type": "stream",
          "text": [
            "CPU times: user 951 ms, sys: 340 µs, total: 952 ms\n",
            "Wall time: 953 ms\n"
          ],
          "name": "stdout"
        }
      ]
    },
    {
      "cell_type": "code",
      "metadata": {
        "colab": {
          "base_uri": "https://localhost:8080/"
        },
        "id": "jjVgYE2utwVN",
        "outputId": "60b9f9dc-99c1-4995-82cb-0a9e6435793b"
      },
      "source": [
        "%time vecCondition(test)"
      ],
      "execution_count": 14,
      "outputs": [
        {
          "output_type": "stream",
          "text": [
            "CPU times: user 697 ms, sys: 297 ms, total: 993 ms\n",
            "Wall time: 989 ms\n"
          ],
          "name": "stdout"
        },
        {
          "output_type": "execute_result",
          "data": {
            "text/plain": [
              "array([1., 1., 1., ..., 1., 1., 1.])"
            ]
          },
          "metadata": {
            "tags": []
          },
          "execution_count": 14
        }
      ]
    },
    {
      "cell_type": "code",
      "metadata": {
        "colab": {
          "base_uri": "https://localhost:8080/"
        },
        "id": "isqOzj0tJfwx",
        "outputId": "ad69d643-7462-4db5-b8f5-6dd2bb3c22ad"
      },
      "source": [
        "!cat /proc/meminfo"
      ],
      "execution_count": 17,
      "outputs": [
        {
          "output_type": "stream",
          "text": [
            "MemTotal:       13305368 kB\n",
            "MemFree:         3944916 kB\n",
            "MemAvailable:    4499380 kB\n",
            "Buffers:           51600 kB\n",
            "Cached:           681212 kB\n",
            "SwapCached:            0 kB\n",
            "Active:          8482048 kB\n",
            "Inactive:         532928 kB\n",
            "Active(anon):    8249924 kB\n",
            "Inactive(anon):    10660 kB\n",
            "Active(file):     232124 kB\n",
            "Inactive(file):   522268 kB\n",
            "Unevictable:           0 kB\n",
            "Mlocked:               0 kB\n",
            "SwapTotal:             0 kB\n",
            "SwapFree:              0 kB\n",
            "Dirty:               324 kB\n",
            "Writeback:             0 kB\n",
            "AnonPages:       8282188 kB\n",
            "Mapped:           341612 kB\n",
            "Shmem:             11404 kB\n",
            "KReclaimable:      83092 kB\n",
            "Slab:             137088 kB\n",
            "SReclaimable:      83092 kB\n",
            "SUnreclaim:        53996 kB\n",
            "KernelStack:        4912 kB\n",
            "PageTables:        21696 kB\n",
            "NFS_Unstable:          0 kB\n",
            "Bounce:                0 kB\n",
            "WritebackTmp:          0 kB\n",
            "CommitLimit:     6652684 kB\n",
            "Committed_AS:   11156120 kB\n",
            "VmallocTotal:   34359738367 kB\n",
            "VmallocUsed:       51052 kB\n",
            "VmallocChunk:          0 kB\n",
            "Percpu:             1400 kB\n",
            "AnonHugePages:   7798784 kB\n",
            "ShmemHugePages:        0 kB\n",
            "ShmemPmdMapped:        0 kB\n",
            "FileHugePages:         0 kB\n",
            "FilePmdMapped:         0 kB\n",
            "CmaTotal:              0 kB\n",
            "CmaFree:               0 kB\n",
            "HugePages_Total:       0\n",
            "HugePages_Free:        0\n",
            "HugePages_Rsvd:        0\n",
            "HugePages_Surp:        0\n",
            "Hugepagesize:       2048 kB\n",
            "Hugetlb:               0 kB\n",
            "DirectMap4k:      289992 kB\n",
            "DirectMap2M:     9146368 kB\n",
            "DirectMap1G:     6291456 kB\n"
          ],
          "name": "stdout"
        }
      ]
    }
  ]
}