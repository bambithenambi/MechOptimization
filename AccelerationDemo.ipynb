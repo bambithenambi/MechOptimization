{
  "nbformat": 4,
  "nbformat_minor": 0,
  "metadata": {
    "colab": {
      "name": "Shooter Optimization.ipynb",
      "provenance": [],
      "collapsed_sections": [],
      "authorship_tag": "ABX9TyNkjjtr6rEpJkqVrkxUGHM+",
      "include_colab_link": true
    },
    "kernelspec": {
      "name": "python3",
      "display_name": "Python 3"
    },
    "language_info": {
      "name": "python"
    }
  },
  "cells": [
    {
      "cell_type": "markdown",
      "metadata": {
        "id": "view-in-github",
        "colab_type": "text"
      },
      "source": [
        "<a href=\"https://colab.research.google.com/github/bambithenambi/MechOptimization/blob/main/AccelerationDemo.ipynb\" target=\"_parent\"><img src=\"https://colab.research.google.com/assets/colab-badge.svg\" alt=\"Open In Colab\"/></a>"
      ]
    },
    {
      "cell_type": "code",
      "metadata": {
        "id": "06JplmNi7qsu"
      },
      "source": [
        "import math\n",
        "import pandas as pd\n",
        "import numpy as np\n",
        "import matplotlib.pyplot as plt\n",
        "from timeit import default_timer as timer\n",
        "from numba import jit, njit, vectorize"
      ],
      "execution_count": 12,
      "outputs": []
    },
    {
      "cell_type": "markdown",
      "metadata": {
        "id": "LPIg6re_z0Oa"
      },
      "source": [
        "# Constants"
      ]
    },
    {
      "cell_type": "code",
      "metadata": {
        "id": "8LJbeLMV622C"
      },
      "source": [
        "Hg = 4\n",
        "Ht = 5\n",
        "Hs = 0.5\n",
        "g = 9.81\n",
        "Dt = 7\n",
        "angles = np.arange(1.0, 90.0, 0.001)"
      ],
      "execution_count": 13,
      "outputs": []
    },
    {
      "cell_type": "markdown",
      "metadata": {
        "id": "VlieCDp3z4TQ"
      },
      "source": [
        "# Different Types of Functions #"
      ]
    },
    {
      "cell_type": "markdown",
      "metadata": {
        "id": "hpVUSD1o0EMX"
      },
      "source": [
        "## Numba Vectorized ##"
      ]
    },
    {
      "cell_type": "code",
      "metadata": {
        "id": "k3fOUKbFnNIU"
      },
      "source": [
        "@vectorize\n",
        "def angleToVelocity(angle):\n",
        "  return math.sqrt(((Hg+Ht)/2-Hs)/(Dt*math.tan(angle*math.pi/180)+(g/2)))*g/math.sin(angle*math.pi/180)"
      ],
      "execution_count": 14,
      "outputs": []
    },
    {
      "cell_type": "code",
      "metadata": {
        "colab": {
          "base_uri": "https://localhost:8080/"
        },
        "id": "2ltETv1tpbo4",
        "outputId": "ab4a3704-245c-4bf4-9997-28a8c71c4bf7"
      },
      "source": [
        "%time angleToVelocity(angles)"
      ],
      "execution_count": 36,
      "outputs": [
        {
          "output_type": "stream",
          "text": [
            "CPU times: user 7.5 ms, sys: 45 µs, total: 7.55 ms\n",
            "Wall time: 11.5 ms\n"
          ],
          "name": "stdout"
        },
        {
          "output_type": "execute_result",
          "data": {
            "text/plain": [
              "array([5.01396423e+02, 5.00889490e+02, 5.00383569e+02, ...,\n",
              "       5.36588461e-02, 4.38125322e-02, 3.09803281e-02])"
            ]
          },
          "metadata": {
            "tags": []
          },
          "execution_count": 36
        }
      ]
    },
    {
      "cell_type": "markdown",
      "metadata": {
        "id": "iE5Zjj2j0Nal"
      },
      "source": [
        "## Python Iteration ##"
      ]
    },
    {
      "cell_type": "code",
      "metadata": {
        "id": "t5rZA6C_CLnO"
      },
      "source": [
        "def original_function(angles):\n",
        "  velocity = []\n",
        "  for i in angles:\n",
        "    velocity.append(angleToVelocity(i))"
      ],
      "execution_count": 30,
      "outputs": []
    },
    {
      "cell_type": "code",
      "metadata": {
        "colab": {
          "base_uri": "https://localhost:8080/"
        },
        "id": "lLkDkamUpXB4",
        "outputId": "77b98fe8-91b1-44f6-cf53-10f19fea7677"
      },
      "source": [
        "%time original_function(angles)"
      ],
      "execution_count": 37,
      "outputs": [
        {
          "output_type": "stream",
          "text": [
            "CPU times: user 136 ms, sys: 4.53 ms, total: 140 ms\n",
            "Wall time: 141 ms\n"
          ],
          "name": "stdout"
        }
      ]
    },
    {
      "cell_type": "markdown",
      "metadata": {
        "id": "9wsBRuJa0YRx"
      },
      "source": [
        "## Numba NJIT ##"
      ]
    },
    {
      "cell_type": "code",
      "metadata": {
        "id": "j9kV88qKn6Tz"
      },
      "source": [
        "jitted_function = njit()(original_function)"
      ],
      "execution_count": 43,
      "outputs": []
    },
    {
      "cell_type": "code",
      "metadata": {
        "colab": {
          "base_uri": "https://localhost:8080/"
        },
        "id": "h9uDvMG2o4IF",
        "outputId": "b6185753-29bc-4737-9f5b-87b93989c4b9"
      },
      "source": [
        "%time result=jitted_function(angles)"
      ],
      "execution_count": 40,
      "outputs": [
        {
          "output_type": "stream",
          "text": [
            "CPU times: user 9.09 ms, sys: 2.97 ms, total: 12.1 ms\n",
            "Wall time: 13.4 ms\n"
          ],
          "name": "stdout"
        }
      ]
    },
    {
      "cell_type": "markdown",
      "metadata": {
        "id": "b3qGe40L0mVx"
      },
      "source": [
        "## Numpy User-defined ufunc ##"
      ]
    },
    {
      "cell_type": "code",
      "metadata": {
        "id": "zO2P3mkxEB5g"
      },
      "source": [
        "analyze = np.frompyfunc(angleToVelocity, 1, 1)"
      ],
      "execution_count": 7,
      "outputs": []
    },
    {
      "cell_type": "code",
      "metadata": {
        "colab": {
          "base_uri": "https://localhost:8080/"
        },
        "id": "F0-DA32hoY6z",
        "outputId": "596f6404-c6f9-469f-f79d-74600f5f6c84"
      },
      "source": [
        "%time analyze(angles)"
      ],
      "execution_count": 38,
      "outputs": [
        {
          "output_type": "stream",
          "text": [
            "CPU times: user 69.4 ms, sys: 0 ns, total: 69.4 ms\n",
            "Wall time: 74.2 ms\n"
          ],
          "name": "stdout"
        },
        {
          "output_type": "execute_result",
          "data": {
            "text/plain": [
              "array([501.39642286578317, 500.88948997905544, 500.3835692020646, ...,\n",
              "       0.05365884605721635, 0.04381253223306089, 0.030980328137087048],\n",
              "      dtype=object)"
            ]
          },
          "metadata": {
            "tags": []
          },
          "execution_count": 38
        }
      ]
    },
    {
      "cell_type": "markdown",
      "metadata": {
        "id": "cqr_OAe101Rh"
      },
      "source": [
        "# Result plotted with vectorized function #"
      ]
    },
    {
      "cell_type": "code",
      "metadata": {
        "colab": {
          "base_uri": "https://localhost:8080/",
          "height": 346
        },
        "id": "zacyKZJGB2to",
        "outputId": "976cf5bc-45bd-4013-c294-70380c0bc1c4"
      },
      "source": [
        "result=angleToVelocity(angles)\n",
        "plt.plot(angles, result)\n",
        "plt.title('Velocity @ Angle')\n",
        "plt.xlabel('Angle')\n",
        "plt.ylabel('Velocity')\n",
        "plt.figure(figsize=(10, 10))\n",
        "plt.show()\n",
        "print(result)"
      ],
      "execution_count": 46,
      "outputs": [
        {
          "output_type": "display_data",
          "data": {
            "image/png": "[encoded data removed]",
            "text/plain": [
              "<Figure size 432x288 with 1 Axes>"
            ]
          },
          "metadata": {
            "tags": [],
            "needs_background": "light"
          }
        },
        {
          "output_type": "display_data",
          "data": {
            "text/plain": [
              "<Figure size 720x720 with 0 Axes>"
            ]
          },
          "metadata": {
            "tags": []
          }
        },
        {
          "output_type": "stream",
          "text": [
            "[5.01396423e+02 5.00889490e+02 5.00383569e+02 ... 5.36588461e-02\n",
            " 4.38125322e-02 3.09803281e-02]\n"
          ],
          "name": "stdout"
        }
      ]
    }
  ]
}