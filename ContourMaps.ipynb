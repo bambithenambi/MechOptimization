{
  "nbformat": 4,
  "nbformat_minor": 0,
  "metadata": {
    "colab": {
      "name": "ContourMaps.ipynb",
      "provenance": [],
      "authorship_tag": "ABX9TyNgobx5qP/GcXDF27wO1RGT",
      "include_colab_link": true
    },
    "kernelspec": {
      "name": "python3",
      "display_name": "Python 3"
    },
    "language_info": {
      "name": "python"
    }
  },
  "cells": [
    {
      "cell_type": "markdown",
      "metadata": {
        "id": "view-in-github",
        "colab_type": "text"
      },
      "source": [
        "<a href=\"https://colab.research.google.com/github/bambithenambi/MechOptimization/blob/main/ContourMaps.ipynb\" target=\"_parent\"><img src=\"https://colab.research.google.com/assets/colab-badge.svg\" alt=\"Open In Colab\"/></a>"
      ]
    },
    {
      "cell_type": "code",
      "metadata": {
        "id": "sQAj1bFMxzuU"
      },
      "source": [
        "import math\n",
        "import pandas as pd\n",
        "import numpy as np\n",
        "import matplotlib.pyplot as plt\n",
        "import matplotlib.colors as colors\n",
        "from timeit import default_timer as timer\n",
        "from numba import jit, njit, vectorize\n",
        "plt.style.use('seaborn-white')\n",
        "array1=np.arange(1.0, 200.1, 0.1)\n",
        "array2=np.arange(1.0, 200.1, 0.1)\n"
      ],
      "execution_count": 80,
      "outputs": []
    },
    {
      "cell_type": "code",
      "metadata": {
        "id": "g51zdCPox3zM"
      },
      "source": [
        "@vectorize\n",
        "def someFunc(a, b):\n",
        "  return a+b"
      ],
      "execution_count": 73,
      "outputs": []
    },
    {
      "cell_type": "code",
      "metadata": {
        "id": "56O43jusJzuD"
      },
      "source": [
        "class MidpointNormalize(colors.Normalize):\n",
        "    def __init__(self, vmin=None, vmax=None, midpoint=None, clip=False):\n",
        "        self.midpoint = midpoint\n",
        "        colors.Normalize.__init__(self, vmin, vmax, clip)\n",
        "\n",
        "    def __call__(self, value, clip=None):\n",
        "        # I'm ignoring masked values and all kinds of edge cases to make a\n",
        "        # simple example...\n",
        "        x, y = [self.vmin, self.midpoint, self.vmax], [0, 0.5, 1]\n",
        "        return np.ma.masked_array(np.interp(value, x, y))"
      ],
      "execution_count": 81,
      "outputs": []
    },
    {
      "cell_type": "code",
      "metadata": {
        "colab": {
          "base_uri": "https://localhost:8080/",
          "height": 266
        },
        "id": "Bf6qFcm3BoVx",
        "outputId": "c91a4e3e-fc7c-46b5-b8a8-49be98db2b0d"
      },
      "source": [
        "X, Y = np.meshgrid(array1, array2)\n",
        "Z = someFunc(X, Y)\n",
        "plt.contourf(X, Y, Z-150, 20, norm=MidpointNormalize(midpoint=0.), cmap='seismic')\n",
        "plt.colorbar();"
      ],
      "execution_count": 84,
      "outputs": [
        {
          "output_type": "display_data",
          "data": {
            "image/png": "[encoded data removed]",
            "text/plain": [
              "<Figure size 432x288 with 2 Axes>"
            ]
          },
          "metadata": {
            "tags": []
          }
        }
      ]
    },
    {
      "cell_type": "code",
      "metadata": {
        "id": "TQoXKfG-yV7u"
      },
      "source": [
        "def std(aList, bList):\n",
        "  result = np.zeros(shape=(len(aList),len(bList)))\n",
        "  for a in range(len(aList)):\n",
        "    for b in range(len(bList)):\n",
        "      result[a][b]=someFunc(aList[a], bList[b])\n",
        "  return result"
      ],
      "execution_count": 52,
      "outputs": []
    },
    {
      "cell_type": "code",
      "metadata": {
        "colab": {
          "base_uri": "https://localhost:8080/"
        },
        "id": "_Ld5TOIT39T6",
        "outputId": "18bd256f-1a66-4cec-e01b-e4fb9e56f961"
      },
      "source": [
        "%time std(array1, array2)"
      ],
      "execution_count": 74,
      "outputs": [
        {
          "output_type": "stream",
          "text": [
            "CPU times: user 9.47 s, sys: 26.1 ms, total: 9.49 s\n",
            "Wall time: 9.49 s\n"
          ],
          "name": "stdout"
        },
        {
          "output_type": "execute_result",
          "data": {
            "text/plain": [
              "array([[  2. ,   2.1,   2.2, ..., 200.8, 200.9, 201. ],\n",
              "       [  2.1,   2.2,   2.3, ..., 200.9, 201. , 201.1],\n",
              "       [  2.2,   2.3,   2.4, ..., 201. , 201.1, 201.2],\n",
              "       ...,\n",
              "       [200.8, 200.9, 201. , ..., 399.6, 399.7, 399.8],\n",
              "       [200.9, 201. , 201.1, ..., 399.7, 399.8, 399.9],\n",
              "       [201. , 201.1, 201.2, ..., 399.8, 399.9, 400. ]])"
            ]
          },
          "metadata": {
            "tags": []
          },
          "execution_count": 74
        }
      ]
    },
    {
      "cell_type": "code",
      "metadata": {
        "colab": {
          "base_uri": "https://localhost:8080/"
        },
        "id": "8JzkQekKFJbI",
        "outputId": "dfe0e214-f7f1-40b8-fcdd-9c84a10a8a05"
      },
      "source": [
        "%time someFunc(X, Y)"
      ],
      "execution_count": 75,
      "outputs": [
        {
          "output_type": "stream",
          "text": [
            "CPU times: user 6.52 ms, sys: 10.2 ms, total: 16.7 ms\n",
            "Wall time: 21.2 ms\n"
          ],
          "name": "stdout"
        },
        {
          "output_type": "execute_result",
          "data": {
            "text/plain": [
              "array([[  2. ,   2.1,   2.2, ..., 200.8, 200.9, 201. ],\n",
              "       [  2.1,   2.2,   2.3, ..., 200.9, 201. , 201.1],\n",
              "       [  2.2,   2.3,   2.4, ..., 201. , 201.1, 201.2],\n",
              "       ...,\n",
              "       [200.8, 200.9, 201. , ..., 399.6, 399.7, 399.8],\n",
              "       [200.9, 201. , 201.1, ..., 399.7, 399.8, 399.9],\n",
              "       [201. , 201.1, 201.2, ..., 399.8, 399.9, 400. ]])"
            ]
          },
          "metadata": {
            "tags": []
          },
          "execution_count": 75
        }
      ]
    }
  ]
}